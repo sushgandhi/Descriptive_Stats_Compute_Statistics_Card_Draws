{
 "cells": [
  {
   "cell_type": "markdown",
   "metadata": {},
   "source": [
    "## Compute Statistics from Card Draws\n",
    "\n",
    "Questions for Investigation\n",
    "This experiment will require the use of a standard deck of playing cards. This is a deck of fifty-two cards divided into four suits (spades (♠), hearts (♥), diamonds (♦), and clubs (♣)), each suit containing thirteen cards (Ace, numbers 2-10, and face cards Jack, Queen, and King). \n",
    "For the purposes of this task, assign each card a value: The Ace takes a value of 1, numbered cards take the value printed on the card, and the Jack, Queen, and King each take a value of 10."
   ]
  },
  {
   "cell_type": "code",
   "execution_count": 73,
   "metadata": {
    "collapsed": true
   },
   "outputs": [],
   "source": [
    "import random\n",
    "import numpy as np\n",
    "import pandas as pd\n",
    "import matplotlib.pyplot as plt\n",
    "from scipy import special as sc\n",
    "%matplotlib inline"
   ]
  },
  {
   "cell_type": "markdown",
   "metadata": {},
   "source": [
    "### 1. Plotting a histogram of card values"
   ]
  },
  {
   "cell_type": "code",
   "execution_count": 20,
   "metadata": {},
   "outputs": [
    {
     "data": {
      "text/plain": [
       "<matplotlib.text.Text at 0x116408400>"
      ]
     },
     "execution_count": 20,
     "metadata": {},
     "output_type": "execute_result"
    },
    {
     "data": {
      "text/plain": [
       "<matplotlib.figure.Figure at 0x116299a20>"
      ]
     },
     "metadata": {},
     "output_type": "display_data"
    },
    {
     "data": {
      "image/png": "[encoded data removed]",
      "text/plain": [
       "<matplotlib.figure.Figure at 0x115f8f780>"
      ]
     },
     "metadata": {},
     "output_type": "display_data"
    }
   ],
   "source": [
    "cards = list(range(1, 11)) + [10, 10, 10]\n",
    "cards = cards * 4\n",
    "df = pd.DataFrame(data = cards)\n",
    "plt.figure()\n",
    "ax = df.plot(kind='hist', bins=10, legend=False)\n",
    "ax.set_xlabel('Value of cards')\n",
    "ax.set_ylabel('Number of cards')"
   ]
  },
  {
   "cell_type": "markdown",
   "metadata": {},
   "source": [
    "### Function to generate Random Sample Data for Cards"
   ]
  },
  {
   "cell_type": "code",
   "execution_count": 45,
   "metadata": {},
   "outputs": [],
   "source": [
    "def card_random(num_of_cards,sample_size):\n",
    "    csvfile = ('drawcards.csv')\n",
    "    drawn_cards = []\n",
    "    cards = [1, 2, 3, 4, 5, 6, 7, 8, 9, 10, 10, 10, 10,\\\n",
    "            1, 2, 3, 4, 5, 6, 7, 8, 9, 10, 10, 10, 10, \\\n",
    "            1, 2, 3, 4, 5, 6, 7, 8, 9, 10, 10, 10, 10,\\\n",
    "            1, 2, 3, 4, 5, 6, 7, 8, 9, 10, 10, 10, 10]\n",
    "    for i in range(sample_size):\n",
    "        drawn_cards.append(random.sample(cards,num_of_cards))\n",
    "    df = pd.DataFrame(data = drawn_cards)\n",
    "    df.to_csv('dataset.csv',index = False, header = False)"
   ]
  },
  {
   "cell_type": "markdown",
   "metadata": {},
   "source": [
    "### 2. Obtain samples from a deck of cards"
   ]
  },
  {
   "cell_type": "markdown",
   "metadata": {},
   "source": [
    "We are gonna generate 100 samples and see what is the result"
   ]
  },
  {
   "cell_type": "code",
   "execution_count": 46,
   "metadata": {
    "collapsed": true
   },
   "outputs": [],
   "source": [
    "card_random(3,100)"
   ]
  },
  {
   "cell_type": "code",
   "execution_count": 57,
   "metadata": {},
   "outputs": [
    {
     "data": {
      "text/html": [
       "<div>\n",
       "<table border=\"1\" class=\"dataframe\">\n",
       "  <thead>\n",
       "    <tr style=\"text-align: right;\">\n",
       "      <th></th>\n",
       "      <th>0</th>\n",
       "      <th>1</th>\n",
       "      <th>2</th>\n",
       "    </tr>\n",
       "  </thead>\n",
       "  <tbody>\n",
       "    <tr>\n",
       "      <th>0</th>\n",
       "      <td>2</td>\n",
       "      <td>10</td>\n",
       "      <td>1</td>\n",
       "    </tr>\n",
       "    <tr>\n",
       "      <th>1</th>\n",
       "      <td>5</td>\n",
       "      <td>10</td>\n",
       "      <td>5</td>\n",
       "    </tr>\n",
       "    <tr>\n",
       "      <th>2</th>\n",
       "      <td>10</td>\n",
       "      <td>10</td>\n",
       "      <td>2</td>\n",
       "    </tr>\n",
       "    <tr>\n",
       "      <th>3</th>\n",
       "      <td>10</td>\n",
       "      <td>4</td>\n",
       "      <td>5</td>\n",
       "    </tr>\n",
       "    <tr>\n",
       "      <th>4</th>\n",
       "      <td>4</td>\n",
       "      <td>9</td>\n",
       "      <td>1</td>\n",
       "    </tr>\n",
       "  </tbody>\n",
       "</table>\n",
       "</div>"
      ],
      "text/plain": [
       "    0   1  2\n",
       "0   2  10  1\n",
       "1   5  10  5\n",
       "2  10  10  2\n",
       "3  10   4  5\n",
       "4   4   9  1"
      ]
     },
     "execution_count": 57,
     "metadata": {},
     "output_type": "execute_result"
    }
   ],
   "source": [
    "dfr = pd.read_csv('dataset.csv', header=None)\n",
    "dfr.head()"
   ]
  },
  {
   "cell_type": "markdown",
   "metadata": {},
   "source": [
    "### 3. Report descriptive statistics regarding sample taken"
   ]
  },
  {
   "cell_type": "code",
   "execution_count": 68,
   "metadata": {},
   "outputs": [
    {
     "data": {
      "text/html": [
       "<div>\n",
       "<table border=\"1\" class=\"dataframe\">\n",
       "  <thead>\n",
       "    <tr style=\"text-align: right;\">\n",
       "      <th></th>\n",
       "      <th>Mean</th>\n",
       "      <th>Median</th>\n",
       "      <th>Standard Deviation</th>\n",
       "      <th>Variance</th>\n",
       "    </tr>\n",
       "  </thead>\n",
       "  <tbody>\n",
       "    <tr>\n",
       "      <th>0</th>\n",
       "      <td>6.73</td>\n",
       "      <td>7.5</td>\n",
       "      <td>3.284045</td>\n",
       "      <td>10.784949</td>\n",
       "    </tr>\n",
       "    <tr>\n",
       "      <th>1</th>\n",
       "      <td>6.66</td>\n",
       "      <td>7.0</td>\n",
       "      <td>2.913639</td>\n",
       "      <td>8.489293</td>\n",
       "    </tr>\n",
       "    <tr>\n",
       "      <th>2</th>\n",
       "      <td>6.53</td>\n",
       "      <td>7.0</td>\n",
       "      <td>3.073034</td>\n",
       "      <td>9.443535</td>\n",
       "    </tr>\n",
       "  </tbody>\n",
       "</table>\n",
       "</div>"
      ],
      "text/plain": [
       "   Mean  Median  Standard Deviation   Variance\n",
       "0  6.73     7.5            3.284045  10.784949\n",
       "1  6.66     7.0            2.913639   8.489293\n",
       "2  6.53     7.0            3.073034   9.443535"
      ]
     },
     "execution_count": 68,
     "metadata": {},
     "output_type": "execute_result"
    }
   ],
   "source": [
    "stat_df = pd.DataFrame({'Mean':dfr.mean(), 'Median' : dfr.median(),'Variance' : dfr.var(), 'Standard Deviation' : dfr.std()})\n",
    "stat_df"
   ]
  },
  {
   "cell_type": "markdown",
   "metadata": {},
   "source": [
    "### 4. Plotting a histogram of sampled values"
   ]
  },
  {
   "cell_type": "code",
   "execution_count": 59,
   "metadata": {},
   "outputs": [
    {
     "data": {
      "text/plain": [
       "<matplotlib.legend.Legend at 0x117359630>"
      ]
     },
     "execution_count": 59,
     "metadata": {},
     "output_type": "execute_result"
    },
    {
     "data": {
      "text/plain": [
       "<matplotlib.figure.Figure at 0x117359ba8>"
      ]
     },
     "metadata": {},
     "output_type": "display_data"
    },
    {
     "data": {
      "image/png": "[encoded data removed]",
      "text/plain": [
       "<matplotlib.figure.Figure at 0x11737cef0>"
      ]
     },
     "metadata": {},
     "output_type": "display_data"
    }
   ],
   "source": [
    "plt.figure()\n",
    "ax = dfr.plot(kind='hist', bins=10,legend = False,alpha = 0.5)\n",
    "ax.set_xlabel('Sampled Card Sums') \n",
    "ax.set_ylabel('Frequency of Sampled Card Sums')\n",
    "plt.legend(loc='upper left', labels=['First Draw','Second Draw','Third Draw'])"
   ]
  },
  {
   "cell_type": "markdown",
   "metadata": {},
   "source": [
    "The original histogram was almost uniform except the cards with value 10 had more frequency. The sampled card distribution above is similarly skewed like the original distribution, however we can ovserve that sums of te sampled cards is more distributed then the original histogram."
   ]
  },
  {
   "cell_type": "markdown",
   "metadata": {},
   "source": [
    "### 5. Making estimates based on the sampled distribution"
   ]
  },
  {
   "cell_type": "markdown",
   "metadata": {},
   "source": [
    "Within what range will you expect approximately 90% of your draw values to fall?\n",
    "\n",
    "Since it a left skewed histogram, the probability to get a value would lie more in right side of the histogram. Hence for approximately 90% or more, the draws values can be calulated by finding the value for Z-Score having probability as 0.1 and then considering all the values to the right of it. ( Z(-1.28) = 0.1003 )\n"
   ]
  },
  {
   "cell_type": "code",
   "execution_count": 77,
   "metadata": {},
   "outputs": [
    {
     "name": "stdout",
     "output_type": "stream",
     "text": [
      "Range where one can expect approximately 90% of the draw values to fall : 2 to 10\n"
     ]
    }
   ],
   "source": [
    "x = (-1.28) * dfr.std(ddof=False)[0] + df.mean()[0]\n",
    "print('Range where one can expect approximately 90% of the draw values to fall : ' + str(int(x)) + ' to ' + str(df.max()[0]))"
   ]
  },
  {
   "cell_type": "markdown",
   "metadata": {},
   "source": [
    "\n",
    "The approximate probability to get a value of 20 can again be calculated using Z table but this probability would less than the expected probability since the histogram is a left skewed histogram."
   ]
  },
  {
   "cell_type": "code",
   "execution_count": 78,
   "metadata": {},
   "outputs": [
    {
     "name": "stdout",
     "output_type": "stream",
     "text": [
      "4.04074891534\n",
      "Approximate probability that one will get a draw value of at least 20 : 2.66403897502e-05\n"
     ]
    }
   ],
   "source": [
    "z = (20 - dfr.mean()[0])/dfr.std()[0]\n",
    "print(z)\n",
    "p = 1-(sc.ndtr(z))\n",
    "print('Approximate probability that one will get a draw value of at least 20 : ' + str(p))"
   ]
  },
  {
   "cell_type": "code",
   "execution_count": null,
   "metadata": {
    "collapsed": true
   },
   "outputs": [],
   "source": []
  }
 ],
 "metadata": {
  "anaconda-cloud": {},
  "kernelspec": {
   "display_name": "Python [conda root]",
   "language": "python",
   "name": "conda-root-py"
  },
  "language_info": {
   "codemirror_mode": {
    "name": "ipython",
    "version": 3
   },
   "file_extension": ".py",
   "mimetype": "text/x-python",
   "name": "python",
   "nbconvert_exporter": "python",
   "pygments_lexer": "ipython3",
   "version": "3.5.2"
  }
 },
 "nbformat": 4,
 "nbformat_minor": 1
}
